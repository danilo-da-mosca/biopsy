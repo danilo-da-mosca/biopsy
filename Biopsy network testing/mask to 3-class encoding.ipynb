{
 "cells": [
  {
   "cell_type": "code",
   "execution_count": 1,
   "metadata": {},
   "outputs": [
    {
     "name": "stdout",
     "output_type": "stream",
     "text": [
      "[0.        0.5372549 1.       ]\n"
     ]
    }
   ],
   "source": [
    "import os\n",
    "import numpy as np\n",
    "from skimage.io import imsave, imread, imshow\n",
    "data_path=\"\"\n",
    "train_data_path = os.path.join(data_path, 'train')\n",
    "img = imread(os.path.join(train_data_path, \"1.tif\"), as_gray=True)\n",
    "img_mask = imread(os.path.join(train_data_path, \"1_mask.tif\"), as_gray=True)\n",
    "imshow(img_mask)\n",
    "height, width = img.shape\n",
    "print(np.unique(img_mask)/255)\n",
    "thresh_indices=[0,0.5,1]\n"
   ]
  },
  {
   "cell_type": "code",
   "execution_count": 2,
   "metadata": {},
   "outputs": [
    {
     "name": "stdout",
     "output_type": "stream",
     "text": [
      "(array([296, 296, 296, ..., 386, 386, 386], dtype=int64), array([274, 275, 276, ..., 354, 355, 356], dtype=int64))\n"
     ]
    }
   ],
   "source": [
    "mask = np.zeros_like(img_mask)\n",
    "#for indice in range(3):\n",
    "#print(thresh_indices[indice])\n",
    "idx0=np.where(img_mask==0)\n",
    "idx1=np.where((img_mask>0) & (img_mask<255))\n",
    "idx2=np.where((img_mask==255))\n",
    "mask[idx1]=0.5*255\n",
    "mask[idx2]=255\n",
    "print(idx1)"
   ]
  },
  {
   "cell_type": "code",
   "execution_count": 3,
   "metadata": {},
   "outputs": [],
   "source": [
    "n=3\n",
    "real_mask = np.zeros([mask.shape[0], mask.shape[1], n])\n",
    "for class_ in range(n-1):\n",
    "    real_mask[:,:,class_] = (mask[:,:] >= thresh_indices[class_]) * (mask[:,:] <  thresh_indices[class_+1])\n",
    "real_mask[:,:,-1] = (mask[:,:] >= thresh_indices[-1])\n",
    "real_mask = real_mask.astype(np.uint8)\n"
   ]
  },
  {
   "cell_type": "code",
   "execution_count": 22,
   "metadata": {},
   "outputs": [
    {
     "name": "stdout",
     "output_type": "stream",
     "text": [
      "(512, 512, 3)\n"
     ]
    }
   ],
   "source": [
    "print(real_mask.shape)\n"
   ]
  },
  {
   "cell_type": "code",
   "execution_count": null,
   "metadata": {},
   "outputs": [],
   "source": []
  }
 ],
 "metadata": {
  "kernelspec": {
   "display_name": "Python 3",
   "language": "python",
   "name": "python3"
  },
  "language_info": {
   "codemirror_mode": {
    "name": "ipython",
    "version": 3
   },
   "file_extension": ".py",
   "mimetype": "text/x-python",
   "name": "python",
   "nbconvert_exporter": "python",
   "pygments_lexer": "ipython3",
   "version": "3.5.5"
  }
 },
 "nbformat": 4,
 "nbformat_minor": 2
}
